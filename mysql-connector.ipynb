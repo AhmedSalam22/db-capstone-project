{
 "cells": [
  {
   "cell_type": "code",
   "execution_count": 1,
   "metadata": {},
   "outputs": [
    {
     "name": "stdout",
     "output_type": "stream",
     "text": [
      "Requirement already satisfied: mysql-connector-python in c:\\users\\ahmed maher\\appdata\\local\\programs\\python\\python38\\lib\\site-packages (8.0.32)\n",
      "Requirement already satisfied: protobuf<=3.20.3,>=3.11.0 in c:\\users\\ahmed maher\\appdata\\local\\programs\\python\\python38\\lib\\site-packages (from mysql-connector-python) (3.13.0)\n",
      "Requirement already satisfied: six>=1.9 in c:\\users\\ahmed maher\\appdata\\local\\programs\\python\\python38\\lib\\site-packages (from protobuf<=3.20.3,>=3.11.0->mysql-connector-python) (1.15.0)\n",
      "Requirement already satisfied: setuptools in c:\\users\\ahmed maher\\appdata\\local\\programs\\python\\python38\\lib\\site-packages (from protobuf<=3.20.3,>=3.11.0->mysql-connector-python) (47.1.0)\n"
     ]
    },
    {
     "name": "stderr",
     "output_type": "stream",
     "text": [
      "WARNING: You are using pip version 21.2.4; however, version 23.0.1 is available.\n",
      "You should consider upgrading via the 'c:\\users\\ahmed maher\\appdata\\local\\programs\\python\\python38\\python.exe -m pip install --upgrade pip' command.\n"
     ]
    }
   ],
   "source": [
    "!pip install mysql-connector-python"
   ]
  },
  {
   "cell_type": "code",
   "execution_count": 20,
   "metadata": {},
   "outputs": [],
   "source": [
    "import mysql.connector as connector"
   ]
  },
  {
   "cell_type": "code",
   "execution_count": 21,
   "metadata": {},
   "outputs": [
    {
     "name": "stdout",
     "output_type": "stream",
     "text": [
      "[]\n"
     ]
    }
   ],
   "source": [
    "connection = connector.connect(user = \"test\", password = \"Ahmed2219990\")\n",
    "cursor = connection.cursor()\n",
    "cursor.execute(\"use little_lemon\")\n",
    "result = cursor.fetchall()\n",
    "print(result)"
   ]
  },
  {
   "cell_type": "code",
   "execution_count": 22,
   "metadata": {},
   "outputs": [
    {
     "name": "stdout",
     "output_type": "stream",
     "text": [
      "[('booking',), ('customer',), ('delivery_status',), ('menus',), ('menus_has_menusitems',), ('menusitems',), ('orders',), ('ordersview',), ('staff',)]\n"
     ]
    }
   ],
   "source": [
    "show_tables_query = \"SHOW tables\" \n",
    "cursor.execute(show_tables_query)\n",
    "result = cursor.fetchall()\n",
    "print(result)"
   ]
  },
  {
   "cell_type": "code",
   "execution_count": 23,
   "metadata": {},
   "outputs": [
    {
     "name": "stdout",
     "output_type": "stream",
     "text": [
      "[(1, 'a1', 'c1', 'e1', 1, 1, datetime.date(2022, 1, 1), 10, 100.0, 1, 1, 'men', 'cuso', 1), (1, 'a1', 'c1', 'e1', 1, 2, datetime.date(2022, 1, 1), 20, 200.0, 1, 2, 'men', 'cuis2', 2)]\n"
     ]
    }
   ],
   "source": [
    "sql = \"\"\"\n",
    "select *\n",
    "from customer \n",
    "JOIN orders\n",
    "on orders.customer_idcustomer = customer.idcustomer\n",
    "Join menus \n",
    "on menus.Orders_idOrders =  orders.idOrders\n",
    "WHERE total_cost > 60;\n",
    "\"\"\"\n",
    "cursor.execute(sql)\n",
    "result = cursor.fetchall()\n",
    "print(result)"
   ]
  },
  {
   "cell_type": "code",
   "execution_count": null,
   "metadata": {},
   "outputs": [],
   "source": []
  }
 ],
 "metadata": {
  "kernelspec": {
   "display_name": "Python 3",
   "language": "python",
   "name": "python3"
  },
  "language_info": {
   "codemirror_mode": {
    "name": "ipython",
    "version": 3
   },
   "file_extension": ".py",
   "mimetype": "text/x-python",
   "name": "python",
   "nbconvert_exporter": "python",
   "pygments_lexer": "ipython3",
   "version": "3.8.5"
  },
  "orig_nbformat": 4,
  "vscode": {
   "interpreter": {
    "hash": "a43a10faf7919a07bdd81bf213bb4181f6655b83036861536795a2b5f0db37a2"
   }
  }
 },
 "nbformat": 4,
 "nbformat_minor": 2
}
